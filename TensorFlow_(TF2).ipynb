{
  "nbformat": 4,
  "nbformat_minor": 0,
  "metadata": {
    "colab": {
      "name": "TensorFlow (TF2)",
      "provenance": [],
      "collapsed_sections": [],
      "authorship_tag": "ABX9TyOfUDrgyI3c6LSXj7ZLRiTz",
      "include_colab_link": true
    },
    "kernelspec": {
      "name": "python3",
      "display_name": "Python 3"
    }
  },
  "cells": [
    {
      "cell_type": "markdown",
      "metadata": {
        "id": "view-in-github",
        "colab_type": "text"
      },
      "source": [
        "<a href=\"https://colab.research.google.com/github/GustavoDuregger/IntroducaoMachineLearningDataScience/blob/master/TensorFlow_(TF2).ipynb\" target=\"_parent\"><img src=\"https://colab.research.google.com/assets/colab-badge.svg\" alt=\"Open In Colab\"/></a>"
      ]
    },
    {
      "cell_type": "code",
      "metadata": {
        "id": "-vEUP8VP-A8H",
        "colab_type": "code",
        "colab": {
          "base_uri": "https://localhost:8080/",
          "height": 374
        },
        "outputId": "aca2be5e-9605-4e35-db9c-94c67bef7400"
      },
      "source": [
        "#importações e instalações\n",
        "!pip install tensorflow\n",
        "import tensorflow as tf\n",
        "tensorflow.__version__\n",
        "import numpy as np"
      ],
      "execution_count": 2,
      "outputs": [
        {
          "output_type": "stream",
          "text": [
            "Requirement already satisfied: tensorflow in /usr/local/lib/python3.6/dist-packages (1.15.0)\n",
            "Requirement already satisfied: numpy<2.0,>=1.16.0 in /usr/local/lib/python3.6/dist-packages (from tensorflow) (1.17.5)\n",
            "Requirement already satisfied: wrapt>=1.11.1 in /usr/local/lib/python3.6/dist-packages (from tensorflow) (1.11.2)\n",
            "Requirement already satisfied: wheel>=0.26 in /usr/local/lib/python3.6/dist-packages (from tensorflow) (0.33.6)\n",
            "Requirement already satisfied: google-pasta>=0.1.6 in /usr/local/lib/python3.6/dist-packages (from tensorflow) (0.1.8)\n",
            "Requirement already satisfied: termcolor>=1.1.0 in /usr/local/lib/python3.6/dist-packages (from tensorflow) (1.1.0)\n",
            "Requirement already satisfied: astor>=0.6.0 in /usr/local/lib/python3.6/dist-packages (from tensorflow) (0.8.1)\n",
            "Requirement already satisfied: tensorboard<1.16.0,>=1.15.0 in /usr/local/lib/python3.6/dist-packages (from tensorflow) (1.15.0)\n",
            "Requirement already satisfied: absl-py>=0.7.0 in /usr/local/lib/python3.6/dist-packages (from tensorflow) (0.9.0)\n",
            "Requirement already satisfied: protobuf>=3.6.1 in /usr/local/lib/python3.6/dist-packages (from tensorflow) (3.10.0)\n",
            "Requirement already satisfied: tensorflow-estimator==1.15.1 in /usr/local/lib/python3.6/dist-packages (from tensorflow) (1.15.1)\n",
            "Requirement already satisfied: gast==0.2.2 in /usr/local/lib/python3.6/dist-packages (from tensorflow) (0.2.2)\n",
            "Requirement already satisfied: opt-einsum>=2.3.2 in /usr/local/lib/python3.6/dist-packages (from tensorflow) (3.1.0)\n",
            "Requirement already satisfied: six>=1.10.0 in /usr/local/lib/python3.6/dist-packages (from tensorflow) (1.12.0)\n",
            "Requirement already satisfied: keras-applications>=1.0.8 in /usr/local/lib/python3.6/dist-packages (from tensorflow) (1.0.8)\n",
            "Requirement already satisfied: keras-preprocessing>=1.0.5 in /usr/local/lib/python3.6/dist-packages (from tensorflow) (1.1.0)\n",
            "Requirement already satisfied: grpcio>=1.8.6 in /usr/local/lib/python3.6/dist-packages (from tensorflow) (1.15.0)\n",
            "Requirement already satisfied: setuptools>=41.0.0 in /usr/local/lib/python3.6/dist-packages (from tensorboard<1.16.0,>=1.15.0->tensorflow) (42.0.2)\n",
            "Requirement already satisfied: markdown>=2.6.8 in /usr/local/lib/python3.6/dist-packages (from tensorboard<1.16.0,>=1.15.0->tensorflow) (3.1.1)\n",
            "Requirement already satisfied: werkzeug>=0.11.15 in /usr/local/lib/python3.6/dist-packages (from tensorboard<1.16.0,>=1.15.0->tensorflow) (0.16.0)\n",
            "Requirement already satisfied: h5py in /usr/local/lib/python3.6/dist-packages (from keras-applications>=1.0.8->tensorflow) (2.8.0)\n"
          ],
          "name": "stdout"
        }
      ]
    },
    {
      "cell_type": "code",
      "metadata": {
        "id": "XIMQJbwl-KDw",
        "colab_type": "code",
        "colab": {
          "base_uri": "https://localhost:8080/",
          "height": 312
        },
        "outputId": "e70ccf1d-75ba-456d-cd82-859f2aaf34d5"
      },
      "source": [
        "#Regressão linear com SKlearn\n",
        "x= np.array([[18],[23],[28],[33],[38],[43],[48],[53],[63]])\n",
        "y=np.array([[871],[1042],[1356],[1488],[1638],[1569],[1754],[1866],[1900]])\n",
        "import matplotlib.pyplot as plt\n",
        "%matplotlib inline\n",
        "from sklearn.linear_model import LinearRegression\n",
        "regressor = LinearRegression()\n",
        "regressor.fit(x,y)\n",
        "#b0\n",
        "regressor.intercept_\n",
        "#b1\n",
        "regressor.coef_\n",
        "#previsao para uma pessoa de 40 anos\n",
        "previsao1 = regressor.intercept_+regressor.coef_*40\n",
        "previsao1\n",
        "previsoes= regressor.predict(x)\n",
        "previsoes\n",
        "#Comparação do valor previsto para valor real\n",
        "resultado = abs(y-previsoes).mean()\n",
        "resultado\n",
        "plt.plot(x, y, 'o')\n",
        "plt.plot(x, previsoes, color='red')\n",
        "plt.title(' Regresão linear simples')\n",
        "plt.xlabel('Idade')\n",
        "plt.ylabel('Custo')"
      ],
      "execution_count": 34,
      "outputs": [
        {
          "output_type": "execute_result",
          "data": {
            "text/plain": [
              "Text(0, 0.5, 'Custo')"
            ]
          },
          "metadata": {
            "tags": []
          },
          "execution_count": 34
        },
        {
          "output_type": "display_data",
          "data": {
            "image/png": "[encoded data removed]",
            "text/plain": [
              "<Figure size 432x288 with 1 Axes>"
            ]
          },
          "metadata": {
            "tags": []
          }
        }
      ]
    },
    {
      "cell_type": "code",
      "metadata": {
        "id": "tV7fcwiL_lgX",
        "colab_type": "code",
        "colab": {}
      },
      "source": [
        "#Regressão linear com TensorFlow\n",
        "from sklearn.preprocessing import StandardScaler\n",
        "scaler_x= StandardScaler()\n",
        "x=scaler_x.fit_transform(x)\n",
        "scaler_y= StandardScaler()\n",
        "y=scaler_y.fit_transform(y)\n",
        "\n",
        "import matplotlib.pyplot as plt\n",
        "%matplotlib inline\n",
        "\n",
        "\n",
        "np.random.seed(0)\n",
        "np.random.rand(2)\n",
        "\n",
        "b0 = tf.Variable(0.001)\n",
        "b1 = tf.Variable(0.001)\n",
        "\n",
        "erro = tf.losses.mean_pairwise_squared_error(y, (b0 + b1 * x))\n",
        "otimizador = tf.train.GradientDescentOptimizer(learning_rate = 0.001)\n",
        "treinamento = otimizador.minimize(erro)\n",
        "init = tf.global_variables_initializer()"
      ],
      "execution_count": 0,
      "outputs": []
    },
    {
      "cell_type": "code",
      "metadata": {
        "id": "VU5qFDDQYyTC",
        "colab_type": "code",
        "colab": {
          "base_uri": "https://localhost:8080/",
          "height": 265
        },
        "outputId": "4084bfba-1feb-4ec9-8d2d-0e87ad6dbd85"
      },
      "source": [
        "#Regressão linear com TensorFlow 2\n",
        "with tf.Session() as sess:\n",
        "  sess.run(init)\n",
        "  for i in range(1000):\n",
        "      sess.run(treinamento)\n",
        "      \n",
        "  b0_final, b1_final = sess.run([b0,b1])\n",
        "\n",
        "  previsoes = b0_final + b1_final + x\n",
        "  \n",
        "  plt.plot(x, previsoes, color='red')\n",
        "  plt.plot(x,y,'o')\n",
        "  "
      ],
      "execution_count": 70,
      "outputs": [
        {
          "output_type": "display_data",
          "data": {
            "image/png": "[encoded data removed]",
            "text/plain": [
              "<Figure size 432x288 with 1 Axes>"
            ]
          },
          "metadata": {
            "tags": []
          }
        }
      ]
    },
    {
      "cell_type": "code",
      "metadata": {
        "id": "iMi1jd-Bb4tg",
        "colab_type": "code",
        "colab": {}
      },
      "source": [
        ""
      ],
      "execution_count": 0,
      "outputs": []
    }
  ]
}