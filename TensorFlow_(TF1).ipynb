{
  "nbformat": 4,
  "nbformat_minor": 0,
  "metadata": {
    "colab": {
      "name": "TensorFlow (TF1)",
      "provenance": [],
      "collapsed_sections": [],
      "authorship_tag": "ABX9TyP3pRllwP2P21hhbaLIZEy+"
    },
    "kernelspec": {
      "name": "python3",
      "display_name": "Python 3"
    },
    "accelerator": "GPU"
  },
  "cells": [
    {
      "cell_type": "code",
      "metadata": {
        "id": "byXKipgL_UU1",
        "colab_type": "code",
        "outputId": "68f7cd12-b796-454a-9d80-2771b6d01f6e",
        "colab": {
          "base_uri": "https://localhost:8080/",
          "height": 374
        }
      },
      "source": [
        "#importações e instalações\n",
        "!pip install tensorflow\n",
        "import tensorflow as tf\n",
        "tensorflow.__version__\n",
        "import numpy as np"
      ],
      "execution_count": 0,
      "outputs": [
        {
          "output_type": "stream",
          "text": [
            "Requirement already satisfied: tensorflow in /usr/local/lib/python3.6/dist-packages (1.15.0)\n",
            "Requirement already satisfied: six>=1.10.0 in /usr/local/lib/python3.6/dist-packages (from tensorflow) (1.12.0)\n",
            "Requirement already satisfied: keras-preprocessing>=1.0.5 in /usr/local/lib/python3.6/dist-packages (from tensorflow) (1.1.0)\n",
            "Requirement already satisfied: astor>=0.6.0 in /usr/local/lib/python3.6/dist-packages (from tensorflow) (0.8.1)\n",
            "Requirement already satisfied: tensorboard<1.16.0,>=1.15.0 in /usr/local/lib/python3.6/dist-packages (from tensorflow) (1.15.0)\n",
            "Requirement already satisfied: grpcio>=1.8.6 in /usr/local/lib/python3.6/dist-packages (from tensorflow) (1.15.0)\n",
            "Requirement already satisfied: absl-py>=0.7.0 in /usr/local/lib/python3.6/dist-packages (from tensorflow) (0.9.0)\n",
            "Requirement already satisfied: protobuf>=3.6.1 in /usr/local/lib/python3.6/dist-packages (from tensorflow) (3.10.0)\n",
            "Requirement already satisfied: wheel>=0.26 in /usr/local/lib/python3.6/dist-packages (from tensorflow) (0.33.6)\n",
            "Requirement already satisfied: google-pasta>=0.1.6 in /usr/local/lib/python3.6/dist-packages (from tensorflow) (0.1.8)\n",
            "Requirement already satisfied: termcolor>=1.1.0 in /usr/local/lib/python3.6/dist-packages (from tensorflow) (1.1.0)\n",
            "Requirement already satisfied: opt-einsum>=2.3.2 in /usr/local/lib/python3.6/dist-packages (from tensorflow) (3.1.0)\n",
            "Requirement already satisfied: wrapt>=1.11.1 in /usr/local/lib/python3.6/dist-packages (from tensorflow) (1.11.2)\n",
            "Requirement already satisfied: tensorflow-estimator==1.15.1 in /usr/local/lib/python3.6/dist-packages (from tensorflow) (1.15.1)\n",
            "Requirement already satisfied: keras-applications>=1.0.8 in /usr/local/lib/python3.6/dist-packages (from tensorflow) (1.0.8)\n",
            "Requirement already satisfied: gast==0.2.2 in /usr/local/lib/python3.6/dist-packages (from tensorflow) (0.2.2)\n",
            "Requirement already satisfied: numpy<2.0,>=1.16.0 in /usr/local/lib/python3.6/dist-packages (from tensorflow) (1.17.5)\n",
            "Requirement already satisfied: werkzeug>=0.11.15 in /usr/local/lib/python3.6/dist-packages (from tensorboard<1.16.0,>=1.15.0->tensorflow) (0.16.0)\n",
            "Requirement already satisfied: markdown>=2.6.8 in /usr/local/lib/python3.6/dist-packages (from tensorboard<1.16.0,>=1.15.0->tensorflow) (3.1.1)\n",
            "Requirement already satisfied: setuptools>=41.0.0 in /usr/local/lib/python3.6/dist-packages (from tensorboard<1.16.0,>=1.15.0->tensorflow) (42.0.2)\n",
            "Requirement already satisfied: h5py in /usr/local/lib/python3.6/dist-packages (from keras-applications>=1.0.8->tensorflow) (2.8.0)\n"
          ],
          "name": "stdout"
        }
      ]
    },
    {
      "cell_type": "code",
      "metadata": {
        "id": "dvt7F_GlC2ZH",
        "colab_type": "code",
        "colab": {}
      },
      "source": [
        "#somando dois valores constantes\n",
        "valor1 = tf.constant(2)\n",
        "valor2 = tf.constant(3)\n",
        "soma= valor1 + valor2\n",
        "with tf.Session() as sess:\n",
        "  s = sess.run(soma)\n",
        "\n",
        "#manipulando variaveis\n",
        "valor3 = tf.constant(15, name = 'valor3')\n",
        "valor4 = tf.constant(15, name = 'valor4')\n",
        "soma1= valor3 + valor4\n",
        "init= tf.global_variables_initializer()\n",
        "with tf.Session() as sess:\n",
        "  a = sess.run(soma1)"
      ],
      "execution_count": 0,
      "outputs": []
    },
    {
      "cell_type": "code",
      "metadata": {
        "id": "f0-w4AvIFZRy",
        "colab_type": "code",
        "outputId": "f9412d93-8528-4f7c-a954-0eb3347a3503",
        "colab": {
          "base_uri": "https://localhost:8080/",
          "height": 136
        }
      },
      "source": [
        "#manipulando vetores\n",
        "vetor = tf.constant([5,10,15], name='vetor')\n",
        "valor5 = tf.Variable(0, name = 'valor')\n",
        "\n",
        "init2= tf.global_variables_initializer()\n",
        "#--programação python normal mas com sessão\n",
        "with tf.Session()as sess:\n",
        "  sess.run(init2)\n",
        "  for i in range(3):\n",
        "    valor5= valor5+1\n",
        "    print(sess.run(valor5))\n",
        "\n",
        "#manipulação de matrizes\n",
        "a1 = tf.constant([[1,2,3],[4,5,6]], name=\"a1\")\n",
        "b1 = tf.constant([[1,2,3],[4,5,6]], name=\"b1\")\n",
        "soma2 = tf.add(a1,b1)\n",
        "\n",
        "with tf.Session()as sess:\n",
        "  print(sess.run(soma2))\n",
        "\n",
        "#multiplicação de matrizes\n",
        "a2 = tf.constant([[1,2],[3,4]])\n",
        "b2 = tf.constant([[-1,3],[4,2]])\n",
        "multiplicacao = tf.matmul(a2,b2)\n",
        "\n",
        "with tf.Session() as sess:\n",
        "  print(sess.run(multiplicacao))\n"
      ],
      "execution_count": 0,
      "outputs": [
        {
          "output_type": "stream",
          "text": [
            "1\n",
            "2\n",
            "3\n",
            "[[ 2  4  6]\n",
            " [ 8 10 12]]\n",
            "[[ 7  7]\n",
            " [13 17]]\n"
          ],
          "name": "stdout"
        }
      ]
    },
    {
      "cell_type": "code",
      "metadata": {
        "id": "wY0r28bkFwWx",
        "colab_type": "code",
        "outputId": "f9d7ef1d-b90e-4c66-a7c5-2fc2b7b4c2d4",
        "colab": {
          "base_uri": "https://localhost:8080/",
          "height": 34
        }
      },
      "source": [
        "#produto escalar\n",
        "entradas= tf.constant([[-1.0,7.0,5.0]], name = \"entradas\")\n",
        "pesos = tf.constant([[0.8,0.1,0]], name = \"pesos\")\n",
        "multiplic = tf.multiply(entradas,pesos)\n",
        "with tf.Session() as sess:\n",
        "  print(sess.run(somaFunc))\n",
        "  somaFunc = tf.reduce_sum(multiplic)"
      ],
      "execution_count": 0,
      "outputs": [
        {
          "output_type": "stream",
          "text": [
            "-0.100000024\n"
          ],
          "name": "stdout"
        }
      ]
    },
    {
      "cell_type": "code",
      "metadata": {
        "id": "MS18IYtdU1Mt",
        "colab_type": "code",
        "outputId": "1abb7e50-7596-4677-ef7e-a58058706d50",
        "colab": {
          "base_uri": "https://localhost:8080/",
          "height": 68
        }
      },
      "source": [
        "#placeholder\n",
        "p= tf.placeholder('float', None)\n",
        "operacao = p+2\n",
        "with tf.Session() as sess:\n",
        "  resultado = sess.run(operacao, feed_dict = {p:[1,2,3]})\n",
        "  print(resultado)\n",
        "\n",
        "  p2 = tf.placeholder('float', [None, 5])\n",
        "  operacao2 = p2+5\n",
        "  with tf.Session() as sess:\n",
        "    dados = [[1,2,3,4,5],[6,7,8,9,10]]\n",
        "    resultado = sess.run(operacao2, feed_dict = {p2:dados})\n",
        "    print(resultado)"
      ],
      "execution_count": 0,
      "outputs": [
        {
          "output_type": "stream",
          "text": [
            "[3. 4. 5.]\n",
            "[[ 6.  7.  8.  9. 10.]\n",
            " [11. 12. 13. 14. 15.]]\n"
          ],
          "name": "stdout"
        }
      ]
    },
    {
      "cell_type": "code",
      "metadata": {
        "id": "YIZeZZ4HcBkB",
        "colab_type": "code",
        "outputId": "c500eb5f-a4ca-44f4-c9d1-66f9e53a0274",
        "colab": {
          "base_uri": "https://localhost:8080/",
          "height": 34
        }
      },
      "source": [
        "#grafos e tensorboard\n",
        "tf.reset_default_graph()\n",
        "a9= tf.add(2,2, name='add')\n",
        "b9= tf.multiply(a9, 3, name=\"mult1\")\n",
        "c9= tf.multiply(b9, a9, name=\"mult2\")\n",
        "\n",
        "with tf.Session() as sess:\n",
        "  writer = tf.summary.FileWriter('output', sess.graph)\n",
        "  print(sess.run(c9))\n",
        "  writer.close()"
      ],
      "execution_count": 0,
      "outputs": [
        {
          "output_type": "stream",
          "text": [
            "48\n"
          ],
          "name": "stdout"
        }
      ]
    },
    {
      "cell_type": "code",
      "metadata": {
        "id": "Icp3zcrPfvUw",
        "colab_type": "code",
        "colab": {}
      },
      "source": [
        ""
      ],
      "execution_count": 0,
      "outputs": []
    }
  ]
}